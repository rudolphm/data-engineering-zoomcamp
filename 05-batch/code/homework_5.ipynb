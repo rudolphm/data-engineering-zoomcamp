{
 "cells": [
  {
   "cell_type": "code",
   "execution_count": 12,
   "id": "72505747",
   "metadata": {},
   "outputs": [],
   "source": [
    "import pyspark\n",
    "from pyspark.sql import SparkSession\n",
    "from pyspark.sql import functions as F"
   ]
  },
  {
   "cell_type": "code",
   "execution_count": 3,
   "id": "dc1d98ed",
   "metadata": {},
   "outputs": [
    {
     "data": {
      "text/plain": [
       "'3.3.2'"
      ]
     },
     "execution_count": 3,
     "metadata": {},
     "output_type": "execute_result"
    }
   ],
   "source": [
    "pyspark.__version__"
   ]
  },
  {
   "cell_type": "code",
   "execution_count": 4,
   "id": "bd55afbe",
   "metadata": {},
   "outputs": [
    {
     "data": {
      "text/plain": [
       "'/home/rudolph/spark/spark-3.3.2-bin-hadoop3/python/pyspark/__init__.py'"
      ]
     },
     "execution_count": 4,
     "metadata": {},
     "output_type": "execute_result"
    }
   ],
   "source": [
    "pyspark.__file__"
   ]
  },
  {
   "cell_type": "code",
   "execution_count": 5,
   "id": "29f1cf4c",
   "metadata": {},
   "outputs": [],
   "source": []
  },
  {
   "cell_type": "code",
   "execution_count": 6,
   "id": "7cbc73d4",
   "metadata": {},
   "outputs": [
    {
     "name": "stdout",
     "output_type": "stream",
     "text": [
      "--2025-03-03 10:32:54--  https://d37ci6vzurychx.cloudfront.net/trip-data/yellow_tripdata_2024-10.parquet\n",
      "Resolving d37ci6vzurychx.cloudfront.net (d37ci6vzurychx.cloudfront.net)... 3.164.82.160, 3.164.82.112, 3.164.82.197, ...\n",
      "Connecting to d37ci6vzurychx.cloudfront.net (d37ci6vzurychx.cloudfront.net)|3.164.82.160|:443... connected.\n",
      "HTTP request sent, awaiting response... 200 OK\n",
      "Length: 64346071 (61M) [binary/octet-stream]\n",
      "Saving to: ‘yellow_tripdata_2024-10.parquet’\n",
      "\n",
      "yellow_tripdata_202 100%[===================>]  61.36M  19.0MB/s    in 4.1s    \n",
      "\n",
      "2025-03-03 10:32:59 (15.1 MB/s) - ‘yellow_tripdata_2024-10.parquet’ saved [64346071/64346071]\n",
      "\n"
     ]
    }
   ],
   "source": [
    "!wget https://d37ci6vzurychx.cloudfront.net/trip-data/yellow_tripdata_2024-10.parquet"
   ]
  },
  {
   "cell_type": "code",
   "execution_count": 7,
   "id": "cf6d80ad",
   "metadata": {},
   "outputs": [
    {
     "name": "stderr",
     "output_type": "stream",
     "text": [
      "Setting default log level to \"WARN\".\n",
      "To adjust logging level use sc.setLogLevel(newLevel). For SparkR, use setLogLevel(newLevel).\n"
     ]
    },
    {
     "name": "stdout",
     "output_type": "stream",
     "text": [
      "25/03/03 10:33:35 WARN NativeCodeLoader: Unable to load native-hadoop library for your platform... using builtin-java classes where applicable\n"
     ]
    }
   ],
   "source": [
    "spark = SparkSession.builder \\\n",
    "    .master(\"local[*]\") \\\n",
    "    .appName('homework_5') \\\n",
    "    .getOrCreate()"
   ]
  },
  {
   "cell_type": "code",
   "execution_count": 9,
   "id": "3f604529",
   "metadata": {},
   "outputs": [
    {
     "name": "stdout",
     "output_type": "stream",
     "text": [
      "--2025-03-02 08:14:42--  https://d37ci6vzurychx.cloudfront.net/misc/taxi_zone_lookup.csv\n",
      "Resolving d37ci6vzurychx.cloudfront.net (d37ci6vzurychx.cloudfront.net)... 3.164.82.40, 3.164.82.197, 3.164.82.160, ...\n",
      "Connecting to d37ci6vzurychx.cloudfront.net (d37ci6vzurychx.cloudfront.net)|3.164.82.40|:443... connected.\n",
      "HTTP request sent, awaiting response... 200 OK\n",
      "Length: 12331 (12K) [text/csv]\n",
      "Saving to: ‘taxi_zone_lookup.csv’\n",
      "\n",
      "taxi_zone_lookup.cs 100%[===================>]  12.04K  --.-KB/s    in 0s      \n",
      "\n",
      "2025-03-02 08:14:43 (229 MB/s) - ‘taxi_zone_lookup.csv’ saved [12331/12331]\n",
      "\n"
     ]
    }
   ],
   "source": [
    "!wget https://d37ci6vzurychx.cloudfront.net/misc/taxi_zone_lookup.csv"
   ]
  },
  {
   "cell_type": "code",
   "execution_count": 11,
   "id": "12342345",
   "metadata": {},
   "outputs": [
    {
     "name": "stdout",
     "output_type": "stream",
     "text": [
      "\"LocationID\",\"Borough\",\"Zone\",\"service_zone\"\n",
      "1,\"EWR\",\"Newark Airport\",\"EWR\"\n",
      "2,\"Queens\",\"Jamaica Bay\",\"Boro Zone\"\n",
      "3,\"Bronx\",\"Allerton/Pelham Gardens\",\"Boro Zone\"\n",
      "4,\"Manhattan\",\"Alphabet City\",\"Yellow Zone\"\n",
      "5,\"Staten Island\",\"Arden Heights\",\"Boro Zone\"\n",
      "6,\"Staten Island\",\"Arrochar/Fort Wadsworth\",\"Boro Zone\"\n",
      "7,\"Queens\",\"Astoria\",\"Boro Zone\"\n",
      "8,\"Queens\",\"Astoria Park\",\"Boro Zone\"\n",
      "9,\"Queens\",\"Auburndale\",\"Boro Zone\"\n"
     ]
    }
   ],
   "source": [
    "!head taxi_zone_lookup.csv"
   ]
  },
  {
   "cell_type": "code",
   "execution_count": 18,
   "id": "809464d0",
   "metadata": {},
   "outputs": [],
   "source": [
    "df_zones = spark.read \\\n",
    "    .option(\"header\", \"true\") \\\n",
    "    .csv('taxi_zone_lookup.csv')"
   ]
  },
  {
   "cell_type": "code",
   "execution_count": 8,
   "id": "cf13da14",
   "metadata": {},
   "outputs": [
    {
     "name": "stderr",
     "output_type": "stream",
     "text": [
      "                                                                                \r"
     ]
    }
   ],
   "source": [
    "df_yellow = spark.read.parquet('yellow_tripdata_2024-10.parquet')\n"
   ]
  },
  {
   "cell_type": "code",
   "execution_count": 9,
   "id": "aea7a466",
   "metadata": {},
   "outputs": [
    {
     "name": "stderr",
     "output_type": "stream",
     "text": [
      "                                                                                \r"
     ]
    }
   ],
   "source": [
    "df_yellow.repartition(4).write.parquet('yellow_tripdata_2024_10_partitioned')\n"
   ]
  },
  {
   "cell_type": "code",
   "execution_count": 14,
   "id": "f55f6d3e",
   "metadata": {},
   "outputs": [
    {
     "data": {
      "text/plain": [
       "['VendorID',\n",
       " 'tpep_pickup_datetime',\n",
       " 'tpep_dropoff_datetime',\n",
       " 'passenger_count',\n",
       " 'trip_distance',\n",
       " 'RatecodeID',\n",
       " 'store_and_fwd_flag',\n",
       " 'PULocationID',\n",
       " 'DOLocationID',\n",
       " 'payment_type',\n",
       " 'fare_amount',\n",
       " 'extra',\n",
       " 'mta_tax',\n",
       " 'tip_amount',\n",
       " 'tolls_amount',\n",
       " 'improvement_surcharge',\n",
       " 'total_amount',\n",
       " 'congestion_surcharge',\n",
       " 'Airport_fee']"
      ]
     },
     "execution_count": 14,
     "metadata": {},
     "output_type": "execute_result"
    }
   ],
   "source": [
    "df_yellow.columns\n",
    "# df_yellow.select('tpep_pickup_datetime').show()"
   ]
  },
  {
   "cell_type": "code",
   "execution_count": 13,
   "id": "e36dd996",
   "metadata": {},
   "outputs": [
    {
     "data": {
      "text/plain": [
       "128893"
      ]
     },
     "execution_count": 13,
     "metadata": {},
     "output_type": "execute_result"
    }
   ],
   "source": [
    "\n",
    "\n",
    "df_yellow \\\n",
    "    .filter(F.to_date(df_yellow.tpep_pickup_datetime) == '2024-10-15') \\\n",
    "    .count()\n"
   ]
  },
  {
   "cell_type": "code",
   "execution_count": 16,
   "id": "cb547351",
   "metadata": {
    "scrolled": true
   },
   "outputs": [
    {
     "name": "stdout",
     "output_type": "stream",
     "text": [
      "+-------------+--------------------+---------------------+------------------+\n",
      "|trip_distance|tpep_pickup_datetime|tpep_dropoff_datetime|    duration_hours|\n",
      "+-------------+--------------------+---------------------+------------------+\n",
      "|    366343.04| 2024-10-16 17:24:00|  2024-10-16 17:59:00|0.5833333333333334|\n",
      "+-------------+--------------------+---------------------+------------------+\n",
      "\n"
     ]
    }
   ],
   "source": [
    "df_yellow \\\n",
    "    .select(\n",
    "        'trip_distance',\n",
    "        'tpep_pickup_datetime', \n",
    "        'tpep_dropoff_datetime',\n",
    "        ((F.unix_timestamp('tpep_dropoff_datetime') - F.unix_timestamp('tpep_pickup_datetime')) / 3600).alias('duration_hours')\n",
    "    ) \\\n",
    "    .orderBy(F.desc('trip_distance')) \\\n",
    "    .limit(1) \\\n",
    "    .show()\n"
   ]
  },
  {
   "cell_type": "code",
   "execution_count": 17,
   "id": "4f7d4351",
   "metadata": {},
   "outputs": [
    {
     "name": "stdout",
     "output_type": "stream",
     "text": [
      "+-------------+--------------------+---------------------+\n",
      "|trip_distance|tpep_pickup_datetime|tpep_dropoff_datetime|\n",
      "+-------------+--------------------+---------------------+\n",
      "|    366343.04| 2024-10-16 17:24:00|  2024-10-16 17:59:00|\n",
      "|    331688.82| 2024-10-03 06:52:00|  2024-10-03 07:01:00|\n",
      "|    319111.84| 2024-10-15 23:54:00|  2024-10-16 00:02:00|\n",
      "|    318500.89| 2024-10-10 20:42:00|  2024-10-10 20:51:00|\n",
      "|    222376.21| 2024-10-04 19:10:00|  2024-10-04 19:24:00|\n",
      "|    160244.91| 2024-10-18 05:58:48|  2024-10-18 07:16:47|\n",
      "|    151827.64| 2024-10-15 10:17:00|  2024-10-15 10:26:00|\n",
      "|    148154.85| 2024-10-18 05:41:00|  2024-10-18 05:44:00|\n",
      "|    126036.33| 2024-10-10 23:01:00|  2024-10-10 23:13:00|\n",
      "|    112006.79| 2024-10-30 07:12:00|  2024-10-30 07:34:00|\n",
      "|    109761.71| 2024-10-15 07:38:00|  2024-10-15 07:47:00|\n",
      "|    108773.45| 2024-10-11 05:54:00|  2024-10-11 06:02:00|\n",
      "|     103191.8| 2024-10-14 08:09:00|  2024-10-14 08:31:00|\n",
      "|    102727.94| 2024-10-08 08:06:00|  2024-10-08 08:30:00|\n",
      "|    101913.74| 2024-10-10 08:36:00|  2024-10-10 08:47:00|\n",
      "|    100882.64| 2024-10-19 16:59:00|  2024-10-19 17:27:00|\n",
      "|      97678.0| 2024-10-31 05:45:00|  2024-10-31 06:15:00|\n",
      "|     96329.33| 2024-10-21 16:00:00|  2024-10-21 16:12:00|\n",
      "|     91562.82| 2024-10-09 07:19:00|  2024-10-09 07:28:00|\n",
      "|     87169.76| 2024-10-14 06:46:00|  2024-10-14 06:56:00|\n",
      "+-------------+--------------------+---------------------+\n",
      "only showing top 20 rows\n",
      "\n"
     ]
    }
   ],
   "source": [
    "df_yellow \\\n",
    "    .select(\n",
    "        'trip_distance',\n",
    "        'tpep_pickup_datetime', \n",
    "        'tpep_dropoff_datetime',\n",
    "    ) \\\n",
    "    .orderBy(F.desc('trip_distance')) \\\n",
    "    .show()\n"
   ]
  },
  {
   "cell_type": "code",
   "execution_count": 19,
   "id": "659f0812",
   "metadata": {},
   "outputs": [
    {
     "name": "stdout",
     "output_type": "stream",
     "text": [
      "+--------------------+-----+\n",
      "|                Zone|count|\n",
      "+--------------------+-----+\n",
      "|Governor's Island...|    1|\n",
      "+--------------------+-----+\n",
      "\n"
     ]
    }
   ],
   "source": [
    "# Read the zone lookup data\n",
    "# df_zones = spark.read.parquet('zones/')\n",
    "\n",
    "# Join yellow taxi data with zones on pickup location\n",
    "pickup_counts = df_yellow \\\n",
    "    .groupBy('PULocationID') \\\n",
    "    .count() \\\n",
    "    .join(df_zones, df_yellow.PULocationID == df_zones.LocationID) \\\n",
    "    .select('Zone', 'count') \\\n",
    "    .orderBy('count') \\\n",
    "    .limit(1)\n",
    "\n",
    "pickup_counts.show()\n"
   ]
  },
  {
   "cell_type": "code",
   "execution_count": null,
   "id": "9e9c3100",
   "metadata": {},
   "outputs": [],
   "source": []
  }
 ],
 "metadata": {
  "kernelspec": {
   "display_name": "base",
   "language": "python",
   "name": "python3"
  },
  "language_info": {
   "codemirror_mode": {
    "name": "ipython",
    "version": 3
   },
   "file_extension": ".py",
   "mimetype": "text/x-python",
   "name": "python",
   "nbconvert_exporter": "python",
   "pygments_lexer": "ipython3",
   "version": "3.12.7"
  }
 },
 "nbformat": 4,
 "nbformat_minor": 5
}
